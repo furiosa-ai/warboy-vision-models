{
 "cells": [
  {
   "cell_type": "markdown",
   "id": "0155b004",
   "metadata": {},
   "source": [
    "# How to Use Warboy Vision Models"
   ]
  },
  {
   "cell_type": "markdown",
   "id": "06acc516",
   "metadata": {},
   "source": [
    "This notebook demonstrates how to use this project with yolov8n object detection model."
   ]
  },
  {
   "cell_type": "markdown",
   "id": "ea88fc89",
   "metadata": {},
   "source": [
    "## Prerequisites"
   ]
  },
  {
   "cell_type": "markdown",
   "id": "44c1f76d",
   "metadata": {},
   "source": [
    "### Make Python Environment"
   ]
  },
  {
   "cell_type": "markdown",
   "id": "36e0fece",
   "metadata": {},
   "source": [
    "To follow this tutorial, you need Python 3.8 or higher. If you already have your own Python environment, you can skip this step. Otherwise, you can create a new Python environment using Conda.\n",
    "\n",
    "First, here are the commands to install Miniconda:\n",
    "```console\n",
    "$ wget https://repo.anaconda.com/miniconda/Miniconda3-latest-Linux-x86_64.sh\n",
    "$ sh ./Miniconda3-latest-Linux-x86_64.sh\n",
    "$ rm -rf Miniconda3-latest-Linux-x86_64.sh\n",
    "$ source ~/.bashrc\n",
    "```\n"
   ]
  },
  {
   "cell_type": "markdown",
   "id": "46d07d2d",
   "metadata": {},
   "source": [
    "After installing Miniconda, you can create a new Python environment and install the Furiosa Python SDK using the following commands:\n",
    "\n",
    "```console\n",
    "$ conda create -n furiosa-3.9 python=3.9\n",
    "$ conda activate furiosa-3.9\n",
    "```\n"
   ]
  },
  {
   "cell_type": "markdown",
   "id": "a708863a",
   "metadata": {},
   "source": [
    "### Install Driver, Firmware, and Runtime packages"
   ]
  },
  {
   "cell_type": "markdown",
   "id": "fbab9f99",
   "metadata": {},
   "source": [
    "First, you can install the Driver, Firmware, and Runtime packages for the NPU device through the APT server. To do this, you need to set up the APT server. You can follow the instructions in [Korean](https://developer.furiosa.ai/docs/latest/ko/software/installation.html) or [English](https://developer.furiosa.ai/docs/latest/en/software/installation.html).\n",
    "\n",
    "After setting up the APT server, you can install the packages using the following command:\n",
    "\n",
    "```console\n",
    "$ sudo apt-get update && sudo apt-get install -y furiosa-driver-warboy furiosa-libnux\n",
    "```\n"
   ]
  },
  {
   "cell_type": "markdown",
   "id": "1ff4bc05",
   "metadata": {},
   "source": [
    "Next, you can check NPU devices on your environment using the following command:\n",
    "\n",
    "```console\n",
    "$ sudo apt-get install -y furiosa-toolkit\n",
    "$ furiosactl info --format full\n",
    "```\n"
   ]
  },
  {
   "cell_type": "markdown",
   "id": "555a707a",
   "metadata": {},
   "source": [
    "### Install Furiosa Python SDK"
   ]
  },
  {
   "cell_type": "markdown",
   "id": "ae5592b2",
   "metadata": {},
   "source": [
    "The Furiosa SDK can be installed following instructions on [Korean](https://furiosa-ai.github.io/docs/latest/ko/) or [English](https://furiosa-ai.github.io/docs/latest/en/).\n",
    "\n",
    "```console\n",
    "$ pip install 'furiosa-sdk[full]'\n",
    "```"
   ]
  },
  {
   "cell_type": "markdown",
   "id": "c447550f",
   "metadata": {},
   "source": [
    "### Install Datasets"
   ]
  },
  {
   "cell_type": "markdown",
   "id": "a75c047e",
   "metadata": {},
   "source": [
    "If you have your own dataset or already downloaded the dataset, you can skip these steps.\n"
   ]
  },
  {
   "cell_type": "markdown",
   "id": "6728adc2",
   "metadata": {},
   "source": [
    "In this notebook, we will use the COCO dataset. You can download the COCO dataset using the following command:\n",
    "\n",
    "```console\n",
    "./coco.sh\n",
    "```\n",
    "This will download the COCO dataset and save it in the `datasets/coco` directory.\n"
   ]
  },
  {
   "cell_type": "markdown",
   "id": "508d6ab4",
   "metadata": {},
   "source": [
    "Also, to run web demo, you need to install the demo videos. You can download the demo videos using the following command:\n",
    "\n",
    "```console\n",
    "./demo_videos.sh\n",
    "```\n",
    "\n",
    "This will download the demo videos and save them in the `datasets/demo_videos` directory. This includes the object detection and instacne segmentation videos in `datasets/demo_videos/detection` and pose estimation videos in `datasets/demo_videos/estimation` directory."
   ]
  },
  {
   "cell_type": "markdown",
   "id": "93249448",
   "metadata": {},
   "source": [
    "### Install required packages"
   ]
  },
  {
   "cell_type": "markdown",
   "id": "bf7bf019",
   "metadata": {},
   "source": [
    "You can install the required packages using the following command:\n",
    "\n",
    "```console\n",
    "$ pip install -r requirements.txt\n",
    "```\n"
   ]
  },
  {
   "cell_type": "markdown",
   "id": "889eeaca",
   "metadata": {},
   "source": [
    "### Build Yolo Decoders"
   ]
  },
  {
   "cell_type": "markdown",
   "id": "508394b0",
   "metadata": {},
   "source": [
    "In this project, C++ decoders are included for post-processing. You can build the decoders using the following command:\n",
    "\n",
    "```console\n",
    "$ ./build.sh\n",
    "```\n"
   ]
  },
  {
   "cell_type": "markdown",
   "id": "d75a44f4",
   "metadata": {},
   "source": [
    "### Installing a Custom CLI Tool (Optional)"
   ]
  },
  {
   "cell_type": "markdown",
   "id": "b663bfcd",
   "metadata": {},
   "source": [
    "In this notebook, we won't be using the custom CLI tool, but if you want to use it, you can install our custom CLI tool to run vision models on Warboy using the following command:\n",
    "\n",
    "```console\n",
    "$ pip install .\n",
    "```\n",
    "This will install the `warboy-vision` command line tool, which you can use to run models on Warboy."
   ]
  },
  {
   "cell_type": "markdown",
   "id": "ac4e1344",
   "metadata": {},
   "source": [
    "## Prepare Model"
   ]
  },
  {
   "cell_type": "markdown",
   "id": "7f27ae0f",
   "metadata": {},
   "source": [
    "First, you need to prepare the configuration file for the model you want to use. In this notebook, we will use the YOLOv8n model. You can check the configuration file in `yolov8n.yaml` file."
   ]
  },
  {
   "cell_type": "code",
   "execution_count": 1,
   "id": "2ed8449e",
   "metadata": {},
   "outputs": [
    {
     "name": "stderr",
     "output_type": "stream",
     "text": [
      "/root/miniconda3/envs/furiosa-3.9/lib/python3.9/site-packages/tqdm/auto.py:21: TqdmWarning: IProgress not found. Please update jupyter and ipywidgets. See https://ipywidgets.readthedocs.io/en/stable/user_install.html\n",
      "  from .autonotebook import tqdm as notebook_tqdm\n"
     ]
    }
   ],
   "source": [
    "from src.warboy.tools.onnx_tools import OnnxTools\n",
    "from src.warboy import get_model_params_from_cfg\n",
    "\n",
    "cfg = '../cfg/yolov8n.yaml'\n",
    "onnx_tools = OnnxTools(cfg)\n",
    "param = get_model_params_from_cfg(cfg)\n"
   ]
  },
  {
   "cell_type": "markdown",
   "id": "d6d9bb7c",
   "metadata": {},
   "source": [
    "### Export ONNX"
   ]
  },
  {
   "cell_type": "markdown",
   "id": "aa980d4c",
   "metadata": {},
   "source": [
    "To run the model on Warboy, you need a quantized ONNX model. First, let's export the YOLOv8n model to ONNX format.\n",
    "\n",
    "\n",
    "For yolo models, due to a drop in accuracy after quantization caused by the concatenation operator (which combines class results and box results along the channel axis at each anchor), we need to modified the model by removing the decoding part from the model output. You can do this by giving the `need_edit` argument as `True` when exporting the model to ONNX format.\n"
   ]
  },
  {
   "cell_type": "code",
   "execution_count": 2,
   "id": "17178311",
   "metadata": {},
   "outputs": [
    {
     "name": "stdout",
     "output_type": "stream",
     "text": [
      "Load PyTorch Model from ../../models/weight/object_detection/yolov8n.pt...\n",
      "Export ONNX ../../models/onnx/object_detection/yolov8n.onnx...\n"
     ]
    },
    {
     "name": "stderr",
     "output_type": "stream",
     "text": [
      "/root/miniconda3/envs/furiosa-3.9/lib/python3.9/site-packages/ultralytics/nn/modules/head.py:116: TracerWarning: Converting a tensor to a Python boolean might cause the trace to be incorrect. We can't record the data flow of Python values, so this value will be treated as a constant in the future. This means that the trace might not generalize to other inputs!\n",
      "  if self.format != \"imx\" and (self.dynamic or self.shape != shape):\n",
      "/root/miniconda3/envs/furiosa-3.9/lib/python3.9/site-packages/ultralytics/utils/tal.py:369: TracerWarning: Iterating over a tensor might cause the trace to be incorrect. Passing a tensor of different shape won't change the number of iterations executed (and might lead to errors or silently give incorrect results).\n",
      "  for i, stride in enumerate(strides):\n",
      "/root/miniconda3/envs/furiosa-3.9/lib/python3.9/site-packages/torch/onnx/_internal/jit_utils.py:258: UserWarning: The shape inference of prim::Constant type is missing, so it may result in wrong shape inference for the exported graph. Please consider adding it in symbolic function. (Triggered internally at ../torch/csrc/jit/passes/onnx/shape_type_inference.cpp:1884.)\n",
      "  _C._jit_pass_onnx_node_shape_type_inference(node, params_dict, opset_version)\n",
      "/root/miniconda3/envs/furiosa-3.9/lib/python3.9/site-packages/torch/onnx/utils.py:687: UserWarning: The shape inference of prim::Constant type is missing, so it may result in wrong shape inference for the exported graph. Please consider adding it in symbolic function. (Triggered internally at ../torch/csrc/jit/passes/onnx/shape_type_inference.cpp:1884.)\n",
      "  _C._jit_pass_onnx_graph_shape_type_inference(\n",
      "/root/miniconda3/envs/furiosa-3.9/lib/python3.9/site-packages/torch/onnx/utils.py:1178: UserWarning: The shape inference of prim::Constant type is missing, so it may result in wrong shape inference for the exported graph. Please consider adding it in symbolic function. (Triggered internally at ../torch/csrc/jit/passes/onnx/shape_type_inference.cpp:1884.)\n",
      "  _C._jit_pass_onnx_graph_shape_type_inference(\n"
     ]
    },
    {
     "name": "stdout",
     "output_type": "stream",
     "text": [
      "Export ONNX for yolov8n >> ../../models/onnx/object_detection/yolov8n.onnx\n"
     ]
    },
    {
     "data": {
      "text/plain": [
       "True"
      ]
     },
     "execution_count": 2,
     "metadata": {},
     "output_type": "execute_result"
    }
   ],
   "source": [
    "onnx_tools.export_onnx(need_edit=True)\n"
   ]
  },
  {
   "cell_type": "markdown",
   "id": "261d702e",
   "metadata": {},
   "source": [
    "### Quantize Model"
   ]
  },
  {
   "cell_type": "markdown",
   "id": "6911b994",
   "metadata": {},
   "source": [
    "Next, let's quantize the ONNX model. Quantization is a technique that converts a high-precision (usually FP32) DL model to a lower precision, reducing the model size and memory cost, and improving the inference speed. By quantizing the model, you can run efficient inference AI services.\n",
    "\n",
    "In quantization phase, we need to prepare the calibration dataset. The calibration dataset is used to calibrate the quantization parameters of the model. In this notebook, we will use COCO dataset for calibration.\n",
    "\n",
    "The calibration method and the number of calibration data configured in `yolov8n.yaml` file can be changed. You can see the specifics of quantization and calibration methods options in [Korean](https://developer.furiosa.ai/docs/latest/ko/software/quantization.html) or [English](https://developer.furiosa.ai/docs/v0.5.0/en/advanced/quantization.html).\n"
   ]
  },
  {
   "cell_type": "code",
   "execution_count": 3,
   "id": "c1991093",
   "metadata": {},
   "outputs": [
    {
     "name": "stderr",
     "output_type": "stream",
     "text": [
      "libfuriosa_hal.so --- v0.11.0, built @ 43c901f\n"
     ]
    },
    {
     "name": "stdout",
     "output_type": "stream",
     "text": [
      "['../../datasets/coco/val2017/000000019742.jpg', '../../datasets/coco/val2017/000000433243.jpg', '../../datasets/coco/val2017/000000292446.jpg', '../../datasets/coco/val2017/000000020571.jpg', '../../datasets/coco/val2017/000000290619.jpg', '../../datasets/coco/val2017/000000319617.jpg', '../../datasets/coco/val2017/000000427655.jpg', '../../datasets/coco/val2017/000000425226.jpg', '../../datasets/coco/val2017/000000195918.jpg', '../../datasets/coco/val2017/000000067406.jpg', '../../datasets/coco/val2017/000000520707.jpg', '../../datasets/coco/val2017/000000532058.jpg', '../../datasets/coco/val2017/000000217957.jpg', '../../datasets/coco/val2017/000000531771.jpg', '../../datasets/coco/val2017/000000056350.jpg', '../../datasets/coco/val2017/000000148999.jpg', '../../datasets/coco/val2017/000000279145.jpg', '../../datasets/coco/val2017/000000508482.jpg', '../../datasets/coco/val2017/000000129945.jpg', '../../datasets/coco/val2017/000000194724.jpg', '../../datasets/coco/val2017/000000441286.jpg', '../../datasets/coco/val2017/000000451155.jpg', '../../datasets/coco/val2017/000000426203.jpg', '../../datasets/coco/val2017/000000142620.jpg', '../../datasets/coco/val2017/000000150649.jpg', '../../datasets/coco/val2017/000000297698.jpg', '../../datasets/coco/val2017/000000448076.jpg', '../../datasets/coco/val2017/000000208423.jpg', '../../datasets/coco/val2017/000000043435.jpg', '../../datasets/coco/val2017/000000018150.jpg', '../../datasets/coco/val2017/000000283037.jpg', '../../datasets/coco/val2017/000000171050.jpg', '../../datasets/coco/val2017/000000025394.jpg', '../../datasets/coco/val2017/000000183049.jpg', '../../datasets/coco/val2017/000000473219.jpg', '../../datasets/coco/val2017/000000257084.jpg', '../../datasets/coco/val2017/000000130586.jpg', '../../datasets/coco/val2017/000000134689.jpg', '../../datasets/coco/val2017/000000298904.jpg', '../../datasets/coco/val2017/000000572678.jpg', '../../datasets/coco/val2017/000000335658.jpg', '../../datasets/coco/val2017/000000476119.jpg', '../../datasets/coco/val2017/000000341681.jpg', '../../datasets/coco/val2017/000000157807.jpg', '../../datasets/coco/val2017/000000379842.jpg', '../../datasets/coco/val2017/000000492992.jpg', '../../datasets/coco/val2017/000000057232.jpg', '../../datasets/coco/val2017/000000177383.jpg', '../../datasets/coco/val2017/000000090631.jpg', '../../datasets/coco/val2017/000000477118.jpg', '../../datasets/coco/val2017/000000015746.jpg', '../../datasets/coco/val2017/000000364297.jpg', '../../datasets/coco/val2017/000000249129.jpg', '../../datasets/coco/val2017/000000434459.jpg', '../../datasets/coco/val2017/000000452891.jpg', '../../datasets/coco/val2017/000000223738.jpg', '../../datasets/coco/val2017/000000160012.jpg', '../../datasets/coco/val2017/000000566436.jpg', '../../datasets/coco/val2017/000000327605.jpg', '../../datasets/coco/val2017/000000400161.jpg', '../../datasets/coco/val2017/000000578967.jpg', '../../datasets/coco/val2017/000000383384.jpg', '../../datasets/coco/val2017/000000200667.jpg', '../../datasets/coco/val2017/000000322968.jpg', '../../datasets/coco/val2017/000000301867.jpg', '../../datasets/coco/val2017/000000144706.jpg', '../../datasets/coco/val2017/000000125062.jpg', '../../datasets/coco/val2017/000000170613.jpg', '../../datasets/coco/val2017/000000476810.jpg', '../../datasets/coco/val2017/000000273198.jpg', '../../datasets/coco/val2017/000000267537.jpg', '../../datasets/coco/val2017/000000062692.jpg', '../../datasets/coco/val2017/000000113403.jpg', '../../datasets/coco/val2017/000000227399.jpg', '../../datasets/coco/val2017/000000449198.jpg', '../../datasets/coco/val2017/000000170116.jpg', '../../datasets/coco/val2017/000000088040.jpg', '../../datasets/coco/val2017/000000139871.jpg', '../../datasets/coco/val2017/000000447789.jpg', '../../datasets/coco/val2017/000000193926.jpg', '../../datasets/coco/val2017/000000384468.jpg', '../../datasets/coco/val2017/000000515982.jpg', '../../datasets/coco/val2017/000000286994.jpg', '../../datasets/coco/val2017/000000253819.jpg', '../../datasets/coco/val2017/000000357978.jpg', '../../datasets/coco/val2017/000000513567.jpg', '../../datasets/coco/val2017/000000226147.jpg', '../../datasets/coco/val2017/000000056288.jpg', '../../datasets/coco/val2017/000000064084.jpg', '../../datasets/coco/val2017/000000384661.jpg', '../../datasets/coco/val2017/000000426166.jpg', '../../datasets/coco/val2017/000000425361.jpg', '../../datasets/coco/val2017/000000447789.jpg', '../../datasets/coco/val2017/000000397354.jpg', '../../datasets/coco/val2017/000000570664.jpg', '../../datasets/coco/val2017/000000470121.jpg', '../../datasets/coco/val2017/000000027982.jpg', '../../datasets/coco/val2017/000000492077.jpg', '../../datasets/coco/val2017/000000283717.jpg', '../../datasets/coco/val2017/000000104619.jpg']\n",
      "['../../datasets/coco/val2017/000000019742.jpg', '../../datasets/coco/val2017/000000433243.jpg', '../../datasets/coco/val2017/000000292446.jpg', '../../datasets/coco/val2017/000000020571.jpg', '../../datasets/coco/val2017/000000290619.jpg', '../../datasets/coco/val2017/000000319617.jpg', '../../datasets/coco/val2017/000000427655.jpg', '../../datasets/coco/val2017/000000425226.jpg', '../../datasets/coco/val2017/000000195918.jpg', '../../datasets/coco/val2017/000000067406.jpg', '../../datasets/coco/val2017/000000520707.jpg', '../../datasets/coco/val2017/000000532058.jpg', '../../datasets/coco/val2017/000000217957.jpg', '../../datasets/coco/val2017/000000531771.jpg', '../../datasets/coco/val2017/000000056350.jpg', '../../datasets/coco/val2017/000000148999.jpg', '../../datasets/coco/val2017/000000279145.jpg', '../../datasets/coco/val2017/000000508482.jpg', '../../datasets/coco/val2017/000000129945.jpg', '../../datasets/coco/val2017/000000194724.jpg', '../../datasets/coco/val2017/000000441286.jpg', '../../datasets/coco/val2017/000000451155.jpg', '../../datasets/coco/val2017/000000426203.jpg', '../../datasets/coco/val2017/000000142620.jpg', '../../datasets/coco/val2017/000000150649.jpg', '../../datasets/coco/val2017/000000297698.jpg', '../../datasets/coco/val2017/000000448076.jpg', '../../datasets/coco/val2017/000000208423.jpg', '../../datasets/coco/val2017/000000043435.jpg', '../../datasets/coco/val2017/000000018150.jpg', '../../datasets/coco/val2017/000000283037.jpg', '../../datasets/coco/val2017/000000171050.jpg', '../../datasets/coco/val2017/000000025394.jpg', '../../datasets/coco/val2017/000000183049.jpg', '../../datasets/coco/val2017/000000473219.jpg', '../../datasets/coco/val2017/000000257084.jpg', '../../datasets/coco/val2017/000000130586.jpg', '../../datasets/coco/val2017/000000134689.jpg', '../../datasets/coco/val2017/000000298904.jpg', '../../datasets/coco/val2017/000000572678.jpg', '../../datasets/coco/val2017/000000335658.jpg', '../../datasets/coco/val2017/000000476119.jpg', '../../datasets/coco/val2017/000000341681.jpg', '../../datasets/coco/val2017/000000157807.jpg', '../../datasets/coco/val2017/000000379842.jpg', '../../datasets/coco/val2017/000000492992.jpg', '../../datasets/coco/val2017/000000057232.jpg', '../../datasets/coco/val2017/000000177383.jpg', '../../datasets/coco/val2017/000000090631.jpg', '../../datasets/coco/val2017/000000477118.jpg', '../../datasets/coco/val2017/000000015746.jpg', '../../datasets/coco/val2017/000000364297.jpg', '../../datasets/coco/val2017/000000249129.jpg', '../../datasets/coco/val2017/000000434459.jpg', '../../datasets/coco/val2017/000000452891.jpg', '../../datasets/coco/val2017/000000223738.jpg', '../../datasets/coco/val2017/000000160012.jpg', '../../datasets/coco/val2017/000000566436.jpg', '../../datasets/coco/val2017/000000327605.jpg', '../../datasets/coco/val2017/000000400161.jpg', '../../datasets/coco/val2017/000000578967.jpg', '../../datasets/coco/val2017/000000383384.jpg', '../../datasets/coco/val2017/000000200667.jpg', '../../datasets/coco/val2017/000000322968.jpg', '../../datasets/coco/val2017/000000301867.jpg', '../../datasets/coco/val2017/000000144706.jpg', '../../datasets/coco/val2017/000000125062.jpg', '../../datasets/coco/val2017/000000170613.jpg', '../../datasets/coco/val2017/000000476810.jpg', '../../datasets/coco/val2017/000000273198.jpg', '../../datasets/coco/val2017/000000267537.jpg', '../../datasets/coco/val2017/000000062692.jpg', '../../datasets/coco/val2017/000000113403.jpg', '../../datasets/coco/val2017/000000227399.jpg', '../../datasets/coco/val2017/000000449198.jpg', '../../datasets/coco/val2017/000000170116.jpg', '../../datasets/coco/val2017/000000088040.jpg', '../../datasets/coco/val2017/000000139871.jpg', '../../datasets/coco/val2017/000000447789.jpg', '../../datasets/coco/val2017/000000193926.jpg', '../../datasets/coco/val2017/000000384468.jpg', '../../datasets/coco/val2017/000000515982.jpg', '../../datasets/coco/val2017/000000286994.jpg', '../../datasets/coco/val2017/000000253819.jpg', '../../datasets/coco/val2017/000000357978.jpg', '../../datasets/coco/val2017/000000513567.jpg', '../../datasets/coco/val2017/000000226147.jpg', '../../datasets/coco/val2017/000000056288.jpg', '../../datasets/coco/val2017/000000064084.jpg', '../../datasets/coco/val2017/000000384661.jpg', '../../datasets/coco/val2017/000000426166.jpg', '../../datasets/coco/val2017/000000425361.jpg', '../../datasets/coco/val2017/000000447789.jpg', '../../datasets/coco/val2017/000000397354.jpg', '../../datasets/coco/val2017/000000570664.jpg', '../../datasets/coco/val2017/000000470121.jpg', '../../datasets/coco/val2017/000000027982.jpg', '../../datasets/coco/val2017/000000492077.jpg', '../../datasets/coco/val2017/000000283717.jpg', '../../datasets/coco/val2017/000000104619.jpg']\n"
     ]
    },
    {
     "name": "stderr",
     "output_type": "stream",
     "text": [
      "calibration...:   2%|▏         | 2/100 [00:02<01:57,  1.20s/it]\n"
     ]
    },
    {
     "ename": "KeyboardInterrupt",
     "evalue": "",
     "output_type": "error",
     "traceback": [
      "\u001b[0;31m---------------------------------------------------------------------------\u001b[0m",
      "\u001b[0;31mKeyboardInterrupt\u001b[0m                         Traceback (most recent call last)",
      "Cell \u001b[0;32mIn[3], line 1\u001b[0m\n\u001b[0;32m----> 1\u001b[0m \u001b[43monnx_tools\u001b[49m\u001b[38;5;241;43m.\u001b[39;49m\u001b[43mquantize\u001b[49m\u001b[43m(\u001b[49m\u001b[43m)\u001b[49m\n",
      "File \u001b[0;32m~/miniconda3/envs/furiosa-3.9/lib/python3.9/site-packages/src/warboy/tools/onnx_tools.py:188\u001b[0m, in \u001b[0;36mOnnxTools.quantize\u001b[0;34m(self, use_model_editor)\u001b[0m\n\u001b[1;32m    186\u001b[0m     input_img \u001b[38;5;241m=\u001b[39m cv2\u001b[38;5;241m.\u001b[39mimread(calibration_data)\n\u001b[1;32m    187\u001b[0m     input_, _ \u001b[38;5;241m=\u001b[39m preprocessor(input_img)\n\u001b[0;32m--> 188\u001b[0m     \u001b[43mcalibrator\u001b[49m\u001b[38;5;241;43m.\u001b[39;49m\u001b[43mcollect_data\u001b[49m\u001b[43m(\u001b[49m\u001b[43m[\u001b[49m\u001b[43m[\u001b[49m\u001b[43minput_\u001b[49m\u001b[43m]\u001b[49m\u001b[43m]\u001b[49m\u001b[43m)\u001b[49m\n\u001b[1;32m    190\u001b[0m \u001b[38;5;28;01mif\u001b[39;00m use_model_editor:\n\u001b[1;32m    191\u001b[0m     editor \u001b[38;5;241m=\u001b[39m ModelEditor(onnx_model)\n",
      "File \u001b[0;32m~/miniconda3/envs/furiosa-3.9/lib/python3.9/site-packages/furiosa/quantizer/calibrator.py:66\u001b[0m, in \u001b[0;36mCalibrator.collect_data\u001b[0;34m(self, calibration_dataset)\u001b[0m\n\u001b[1;32m     55\u001b[0m \u001b[38;5;28;01mdef\u001b[39;00m\u001b[38;5;250m \u001b[39m\u001b[38;5;21mcollect_data\u001b[39m(\u001b[38;5;28mself\u001b[39m, calibration_dataset: Iterable[Sequence[np\u001b[38;5;241m.\u001b[39mndarray]]) \u001b[38;5;241m-\u001b[39m\u001b[38;5;241m>\u001b[39m \u001b[38;5;28;01mNone\u001b[39;00m:\n\u001b[1;32m     56\u001b[0m \u001b[38;5;250m    \u001b[39m\u001b[38;5;124;03m\"\"\"Collect the values of tensors that will be used for range\u001b[39;00m\n\u001b[1;32m     57\u001b[0m \u001b[38;5;124;03m    computation.\u001b[39;00m\n\u001b[1;32m     58\u001b[0m \n\u001b[0;32m   (...)\u001b[0m\n\u001b[1;32m     64\u001b[0m \u001b[38;5;124;03m            a time.\u001b[39;00m\n\u001b[1;32m     65\u001b[0m \u001b[38;5;124;03m    \"\"\"\u001b[39;00m\n\u001b[0;32m---> 66\u001b[0m     \u001b[38;5;28;43mself\u001b[39;49m\u001b[38;5;241;43m.\u001b[39;49m\u001b[43m_calibrator\u001b[49m\u001b[38;5;241;43m.\u001b[39;49m\u001b[43mcollect_data\u001b[49m\u001b[43m(\u001b[49m\u001b[43mcalibration_dataset\u001b[49m\u001b[43m)\u001b[49m\n\u001b[1;32m     67\u001b[0m     \u001b[38;5;28mself\u001b[39m\u001b[38;5;241m.\u001b[39m_collected_data \u001b[38;5;241m=\u001b[39m \u001b[38;5;28;01mTrue\u001b[39;00m\n",
      "\u001b[0;31mKeyboardInterrupt\u001b[0m: "
     ]
    }
   ],
   "source": [
    "onnx_tools.quantize()\n"
   ]
  },
  {
   "cell_type": "markdown",
   "id": "c594ba99",
   "metadata": {},
   "source": [
    "## Run Inference"
   ]
  },
  {
   "cell_type": "markdown",
   "id": "49fc6aac",
   "metadata": {},
   "source": [
    "### End to End Performance Test"
   ]
  },
  {
   "cell_type": "markdown",
   "id": "1182a402",
   "metadata": {},
   "source": [
    "Now, we will run the end to end performance test. This will run the model to inference on the COCO dataset and measure the mAP."
   ]
  },
  {
   "cell_type": "code",
   "execution_count": 4,
   "id": "d11ee6c4",
   "metadata": {},
   "outputs": [
    {
     "name": "stdout",
     "output_type": "stream",
     "text": [
      "loading annotations into memory...\n",
      "Done (t=0.54s)\n",
      "creating index...\n",
      "index created!\n",
      "0.001 0.7 [None] False\n",
      "0.001 0.7 [None] False\n",
      "WarboyQueueRuntime - init\n",
      "WarboyQueueRuntime - init\n",
      "\u001b[2m2025-04-22T09:48:44.049064Z\u001b[0m \u001b[32m INFO\u001b[0m \u001b[2mfuriosa_rt_core::driver::event_driven::coord\u001b[0m\u001b[2m:\u001b[0m FuriosaRT (v0.10.5, rev: 5537afb71-modified, built at: 2025-01-10T02:06:37Z) bootstrapping ...\n",
      "\u001b[2m2025-04-22T09:48:44.052261Z\u001b[0m \u001b[32m INFO\u001b[0m \u001b[2mfuriosa_rt_core::driver::event_driven::coord\u001b[0m\u001b[2m:\u001b[0m Found furiosa-compiler (v0.10.1, rev: 8b00177, built at: 2025-01-08T03:45:42Z)\n",
      "\u001b[2m2025-04-22T09:48:44.052269Z\u001b[0m \u001b[32m INFO\u001b[0m \u001b[2mfuriosa_rt_core::driver::event_driven::coord\u001b[0m\u001b[2m:\u001b[0m Found libhal (type: warboy, v0.12.0, rev: 56530c0 built at: 2023-11-16T12:34:03Z)\n",
      "\u001b[2m2025-04-22T09:48:44.052276Z\u001b[0m \u001b[32m INFO\u001b[0m \u001b[2mfuriosa_rt_core::driver::event_driven::coord\u001b[0m\u001b[2m:\u001b[0m [Runtime-0] detected 1 NPU device(s):\n",
      "\u001b[2m2025-04-22T09:48:44.065045Z\u001b[0m \u001b[32m INFO\u001b[0m \u001b[2mfuriosa_rt_core::driver::event_driven::coord\u001b[0m\u001b[2m:\u001b[0m FuriosaRT (v0.10.5, rev: 5537afb71-modified, built at: 2025-01-10T02:06:37Z) bootstrapping ...\n",
      "\u001b[2m2025-04-22T09:48:44.067603Z\u001b[0m \u001b[32m INFO\u001b[0m \u001b[2mfuriosa_rt_core::driver::event_driven::coord\u001b[0m\u001b[2m:\u001b[0m Found furiosa-compiler (v0.10.1, rev: 8b00177, built at: 2025-01-08T03:45:42Z)\n",
      "\u001b[2m2025-04-22T09:48:44.067611Z\u001b[0m \u001b[32m INFO\u001b[0m \u001b[2mfuriosa_rt_core::driver::event_driven::coord\u001b[0m\u001b[2m:\u001b[0m Found libhal (type: warboy, v0.12.0, rev: 56530c0 built at: 2023-11-16T12:34:03Z)\n",
      "\u001b[2m2025-04-22T09:48:44.067618Z\u001b[0m \u001b[32m INFO\u001b[0m \u001b[2mfuriosa_rt_core::driver::event_driven::coord\u001b[0m\u001b[2m:\u001b[0m [Runtime-0] detected 1 NPU device(s):\n",
      "\u001b[2m2025-04-22T09:48:44.072648Z\u001b[0m \u001b[32m INFO\u001b[0m \u001b[2mfuriosa_rt_core::driver::event_driven::coord\u001b[0m\u001b[2m:\u001b[0m - [0] npu:1:0 (warboy-b0, 64dpes, firmware: 1.8.0, 7550956)\n",
      "\u001b[2m2025-04-22T09:48:44.072813Z\u001b[0m \u001b[32m INFO\u001b[0m \u001b[2mfuriosa_rt_core::driver::event_driven::coord\u001b[0m\u001b[2m:\u001b[0m [Runtime-0] started\n",
      "\u001b[2m2025-04-22T09:48:44.074738Z\u001b[0m \u001b[32m INFO\u001b[0m \u001b[2mfuriosa::runtime\u001b[0m\u001b[2m:\u001b[0m Saving the compilation log into /root/.local/state/furiosa/logs/compiler-20250422094844-kfzt9d.log\n",
      "\u001b[2m2025-04-22T09:48:44.080281Z\u001b[0m \u001b[32m INFO\u001b[0m \u001b[2mfuriosa_rt_core::driver::event_driven::coord\u001b[0m\u001b[2m:\u001b[0m [Runtime-0] created Sess-5477c83e using npu:1:0\n",
      "\u001b[2m2025-04-22T09:48:44.122648Z\u001b[0m \u001b[32m INFO\u001b[0m \u001b[2mfuriosa_rt_core::driver::event_driven::coord\u001b[0m\u001b[2m:\u001b[0m - [0] npu:1:1 (warboy-b0, 64dpes, firmware: 1.8.0, 7550956)\n",
      "\u001b[2m2025-04-22T09:48:44.122803Z\u001b[0m \u001b[32m INFO\u001b[0m \u001b[2mfuriosa_rt_core::driver::event_driven::coord\u001b[0m\u001b[2m:\u001b[0m [Runtime-0] started\n",
      "\u001b[2m2025-04-22T09:48:44.124644Z\u001b[0m \u001b[32m INFO\u001b[0m \u001b[2mfuriosa::runtime\u001b[0m\u001b[2m:\u001b[0m Saving the compilation log into /root/.local/state/furiosa/logs/compiler-20250422094844-7q6afn.log\n",
      "\u001b[2m2025-04-22T09:48:44.130135Z\u001b[0m \u001b[32m INFO\u001b[0m \u001b[2mfuriosa_rt_core::driver::event_driven::coord\u001b[0m\u001b[2m:\u001b[0m [Runtime-0] created Sess-cfcd1988 using npu:1:1\n",
      "\u001b[2m2025-04-22T09:48:44.132673Z\u001b[0m \u001b[32m INFO\u001b[0m \u001b[2mfuriosa_rt_core::driver::event_driven::coord\u001b[0m\u001b[2m:\u001b[0m [Sess-5477c83e] compiling the model (target: warboy-b0, 64dpes, file: yolov8n_i8.onnx, size: 12.1 MiB)\n",
      "\u001b[2m2025-04-22T09:48:44.162688Z\u001b[0m \u001b[32m INFO\u001b[0m \u001b[2mfuriosa_rt_core::driver::event_driven::coord\u001b[0m\u001b[2m:\u001b[0m [Sess-cfcd1988] compiling the model (target: warboy-b0, 64dpes, file: yolov8n_i8.onnx, size: 12.1 MiB)\n",
      "\u001b[2m2025-04-22T09:48:44.431918Z\u001b[0m \u001b[32m INFO\u001b[0m \u001b[2mfuriosa_rt_core::driver::event_driven::coord\u001b[0m\u001b[2m:\u001b[0m [Sess-5477c83e] the model compile is successful (took 0 secs)\n",
      "\u001b[2m2025-04-22T09:48:44.459878Z\u001b[0m \u001b[32m INFO\u001b[0m \u001b[2mfuriosa_rt_core::driver::event_driven::coord\u001b[0m\u001b[2m:\u001b[0m [Sess-cfcd1988] the model compile is successful (took 0 secs)\n",
      "\u001b[2m2025-04-22T09:48:44.500244Z\u001b[0m \u001b[32m INFO\u001b[0m \u001b[2mfuriosa_rt_core::driver::event_driven::coord\u001b[0m\u001b[2m:\u001b[0m [Runtime-0] created 16 NPU threads on npu:1:0 (DRAM: 42.7 MiB/16.0 GiB, SRAM: 11.3 MiB/64.0 MiB)\n",
      "\u001b[2m2025-04-22T09:48:44.527859Z\u001b[0m \u001b[32m INFO\u001b[0m \u001b[2mfuriosa_rt_core::driver::event_driven::coord\u001b[0m\u001b[2m:\u001b[0m [Runtime-0] created 16 NPU threads on npu:1:1 (DRAM: 42.7 MiB/16.0 GiB, SRAM: 11.3 MiB/64.0 MiB)\n"
     ]
    },
    {
     "name": "stderr",
     "output_type": "stream",
     "text": [
      "Process <src.warboy.utils.image_encoder.PredictionEncoder object at 0x7f30efe59d00>:\n",
      "Process <src.warboy.utils.image_encoder.PredictionEncoder object at 0x7f30efe65070>:\n",
      "Traceback (most recent call last):\n",
      "Traceback (most recent call last):\n",
      "  File \"/root/miniconda3/envs/furiosa-3.9/lib/python3.9/multiprocessing/process.py\", line 315, in _bootstrap\n",
      "    self.run()\n",
      "  File \"/root/miniconda3/envs/furiosa-3.9/lib/python3.9/multiprocessing/process.py\", line 315, in _bootstrap\n",
      "    self.run()\n",
      "  File \"/root/miniconda3/envs/furiosa-3.9/lib/python3.9/multiprocessing/process.py\", line 108, in run\n",
      "    self._target(*self._args, **self._kwargs)\n",
      "  File \"/root/miniconda3/envs/furiosa-3.9/lib/python3.9/multiprocessing/process.py\", line 108, in run\n",
      "    self._target(*self._args, **self._kwargs)\n",
      "  File \"/root/miniconda3/envs/furiosa-3.9/lib/python3.9/site-packages/src/warboy/utils/image_encoder.py\", line 66, in run\n",
      "    output = self.output_mux.get()\n",
      "  File \"/root/miniconda3/envs/furiosa-3.9/lib/python3.9/site-packages/src/warboy/utils/image_encoder.py\", line 66, in run\n",
      "    output = self.output_mux.get()\n",
      "  File \"/root/miniconda3/envs/furiosa-3.9/lib/python3.9/site-packages/src/warboy/utils/queue.py\", line 18, in get\n",
      "    item = self.queue.get(block=block, timeout=timeout)\n",
      "  File \"/root/miniconda3/envs/furiosa-3.9/lib/python3.9/site-packages/src/warboy/utils/queue.py\", line 18, in get\n",
      "    item = self.queue.get(block=block, timeout=timeout)\n",
      "  File \"/root/miniconda3/envs/furiosa-3.9/lib/python3.9/multiprocessing/queues.py\", line 103, in get\n",
      "    res = self._recv_bytes()\n",
      "  File \"/root/miniconda3/envs/furiosa-3.9/lib/python3.9/multiprocessing/queues.py\", line 103, in get\n",
      "    res = self._recv_bytes()\n",
      "  File \"/root/miniconda3/envs/furiosa-3.9/lib/python3.9/multiprocessing/connection.py\", line 216, in recv_bytes\n",
      "    buf = self._recv_bytes(maxlength)\n",
      "  File \"/root/miniconda3/envs/furiosa-3.9/lib/python3.9/multiprocessing/connection.py\", line 216, in recv_bytes\n",
      "    buf = self._recv_bytes(maxlength)\n",
      "  File \"/root/miniconda3/envs/furiosa-3.9/lib/python3.9/multiprocessing/connection.py\", line 421, in _recv_bytes\n",
      "    return self._recv(size)\n",
      "  File \"/root/miniconda3/envs/furiosa-3.9/lib/python3.9/multiprocessing/connection.py\", line 421, in _recv_bytes\n",
      "    return self._recv(size)\n",
      "  File \"/root/miniconda3/envs/furiosa-3.9/lib/python3.9/multiprocessing/connection.py\", line 386, in _recv\n",
      "    buf.write(chunk)\n",
      "  File \"/root/miniconda3/envs/furiosa-3.9/lib/python3.9/multiprocessing/connection.py\", line 379, in _recv\n",
      "    chunk = read(handle, remaining)\n",
      "KeyboardInterrupt\n",
      "KeyboardInterrupt\n"
     ]
    },
    {
     "ename": "KeyboardInterrupt",
     "evalue": "",
     "output_type": "error",
     "traceback": [
      "\u001b[0;31m---------------------------------------------------------------------------\u001b[0m",
      "\u001b[0;31mKeyboardInterrupt\u001b[0m                         Traceback (most recent call last)",
      "Cell \u001b[0;32mIn[4], line 3\u001b[0m\n\u001b[1;32m      1\u001b[0m \u001b[38;5;28;01mfrom\u001b[39;00m\u001b[38;5;250m \u001b[39m\u001b[38;5;21;01msrc\u001b[39;00m\u001b[38;5;21;01m.\u001b[39;00m\u001b[38;5;21;01mtest_scenarios\u001b[39;00m\u001b[38;5;21;01m.\u001b[39;00m\u001b[38;5;21;01me2e\u001b[39;00m\u001b[38;5;21;01m.\u001b[39;00m\u001b[38;5;21;01mtest_object_det\u001b[39;00m\u001b[38;5;250m \u001b[39m\u001b[38;5;28;01mimport\u001b[39;00m test_warboy_yolo_accuracy_det\n\u001b[0;32m----> 3\u001b[0m \u001b[43mtest_warboy_yolo_accuracy_det\u001b[49m\u001b[43m(\u001b[49m\n\u001b[1;32m      4\u001b[0m \u001b[43m    \u001b[49m\u001b[43mmodel_name\u001b[49m\u001b[43m \u001b[49m\u001b[38;5;241;43m=\u001b[39;49m\u001b[43m \u001b[49m\u001b[38;5;124;43m'\u001b[39;49m\u001b[38;5;124;43myolov8n\u001b[39;49m\u001b[38;5;124;43m'\u001b[39;49m\u001b[43m,\u001b[49m\u001b[43m \u001b[49m\n\u001b[1;32m      5\u001b[0m \u001b[43m    \u001b[49m\u001b[43mmodel\u001b[49m\u001b[43m \u001b[49m\u001b[38;5;241;43m=\u001b[39;49m\u001b[43m \u001b[49m\u001b[43mparam\u001b[49m\u001b[43m[\u001b[49m\u001b[38;5;124;43m'\u001b[39;49m\u001b[38;5;124;43monnx_i8_path\u001b[39;49m\u001b[38;5;124;43m'\u001b[39;49m\u001b[43m]\u001b[49m\u001b[43m,\u001b[49m\u001b[43m \u001b[49m\n\u001b[1;32m      6\u001b[0m \u001b[43m    \u001b[49m\u001b[43minput_shape\u001b[49m\u001b[38;5;241;43m=\u001b[39;49m\u001b[43m \u001b[49m\u001b[43mparam\u001b[49m\u001b[43m[\u001b[49m\u001b[38;5;124;43m'\u001b[39;49m\u001b[38;5;124;43minput_shape\u001b[39;49m\u001b[38;5;124;43m'\u001b[39;49m\u001b[43m]\u001b[49m\u001b[43m,\u001b[49m\u001b[43m \u001b[49m\n\u001b[1;32m      7\u001b[0m \u001b[43m    \u001b[49m\u001b[43mimage_dir\u001b[49m\u001b[43m \u001b[49m\u001b[38;5;241;43m=\u001b[39;49m\u001b[43m \u001b[49m\u001b[38;5;124;43m\"\u001b[39;49m\u001b[38;5;124;43m../../datasets/coco/val2017\u001b[39;49m\u001b[38;5;124;43m\"\u001b[39;49m\u001b[43m,\u001b[49m\n\u001b[1;32m      8\u001b[0m \u001b[43m    \u001b[49m\u001b[43mannotation_file\u001b[49m\u001b[43m \u001b[49m\u001b[38;5;241;43m=\u001b[39;49m\u001b[43m \u001b[49m\u001b[38;5;124;43m\"\u001b[39;49m\u001b[38;5;124;43m../../datasets/coco/annotations/instances_val2017.json\u001b[39;49m\u001b[38;5;124;43m\"\u001b[39;49m\u001b[43m,\u001b[49m\n\u001b[1;32m      9\u001b[0m \u001b[43m    \u001b[49m\u001b[43manchors\u001b[49m\u001b[38;5;241;43m=\u001b[39;49m\u001b[43m \u001b[49m\u001b[43mparam\u001b[49m\u001b[43m[\u001b[49m\u001b[38;5;124;43m'\u001b[39;49m\u001b[38;5;124;43manchors\u001b[39;49m\u001b[38;5;124;43m'\u001b[39;49m\u001b[43m]\u001b[49m\u001b[43m,\u001b[49m\n\u001b[1;32m     10\u001b[0m \u001b[43m)\u001b[49m\n",
      "File \u001b[0;32m~/miniconda3/envs/furiosa-3.9/lib/python3.9/site-packages/src/test_scenarios/e2e/test_object_det.py:230\u001b[0m, in \u001b[0;36mtest_warboy_yolo_accuracy_det\u001b[0;34m(model_name, model, input_shape, image_dir, annotation_file, anchors)\u001b[0m\n\u001b[1;32m    221\u001b[0m     task\u001b[38;5;241m.\u001b[39madd(\n\u001b[1;32m    222\u001b[0m         ImageList(\n\u001b[1;32m    223\u001b[0m             image_list\u001b[38;5;241m=\u001b[39m[image \u001b[38;5;28;01mfor\u001b[39;00m image \u001b[38;5;129;01min\u001b[39;00m images[idx :: \u001b[38;5;28mlen\u001b[39m(engin_configs)]]\n\u001b[0;32m   (...)\u001b[0m\n\u001b[1;32m    226\u001b[0m         postprocess_as_img\u001b[38;5;241m=\u001b[39m\u001b[38;5;28;01mFalse\u001b[39;00m,\n\u001b[1;32m    227\u001b[0m     )\n\u001b[1;32m    229\u001b[0m \u001b[38;5;66;03m# task.run(runtime_type=\"application\")\u001b[39;00m\n\u001b[0;32m--> 230\u001b[0m \u001b[43mtask\u001b[49m\u001b[38;5;241;43m.\u001b[39;49m\u001b[43mrun\u001b[49m\u001b[43m(\u001b[49m\u001b[43m)\u001b[49m\n\u001b[1;32m    232\u001b[0m outputs \u001b[38;5;241m=\u001b[39m task\u001b[38;5;241m.\u001b[39moutputs\n\u001b[1;32m    233\u001b[0m results \u001b[38;5;241m=\u001b[39m _process_output(outputs, data_loader)\n",
      "File \u001b[0;32m~/miniconda3/envs/furiosa-3.9/lib/python3.9/site-packages/src/warboy/utils/process_pipeline.py:270\u001b[0m, in \u001b[0;36mPipeLine.run\u001b[0;34m(self, runtime_type)\u001b[0m\n\u001b[1;32m    265\u001b[0m \u001b[38;5;28;01melif\u001b[39;00m \u001b[38;5;28mself\u001b[39m\u001b[38;5;241m.\u001b[39mrun_e2e_test:\n\u001b[1;32m    266\u001b[0m     total_result_mux_list \u001b[38;5;241m=\u001b[39m [\n\u001b[1;32m    267\u001b[0m         (name, \u001b[38;5;28mself\u001b[39m\u001b[38;5;241m.\u001b[39mresult_mux_list[name])\n\u001b[1;32m    268\u001b[0m         \u001b[38;5;28;01mfor\u001b[39;00m name, _ \u001b[38;5;129;01min\u001b[39;00m \u001b[38;5;28mself\u001b[39m\u001b[38;5;241m.\u001b[39mruntime_info\u001b[38;5;241m.\u001b[39mitems()\n\u001b[1;32m    269\u001b[0m     ]\n\u001b[0;32m--> 270\u001b[0m     \u001b[38;5;28;43mself\u001b[39;49m\u001b[38;5;241;43m.\u001b[39;49m\u001b[43mimage_handler\u001b[49m\u001b[38;5;241;43m.\u001b[39;49m\u001b[43moutput_e2e_test_handler\u001b[49m\u001b[43m(\u001b[49m\n\u001b[1;32m    271\u001b[0m \u001b[43m        \u001b[49m\u001b[38;5;28;43mself\u001b[39;49m\u001b[38;5;241;43m.\u001b[39;49m\u001b[43moutputs\u001b[49m\u001b[43m,\u001b[49m\n\u001b[1;32m    272\u001b[0m \u001b[43m        \u001b[49m\u001b[43m[\u001b[49m\n\u001b[1;32m    273\u001b[0m \u001b[43m            \u001b[49m\u001b[43m(\u001b[49m\u001b[43mname\u001b[49m\u001b[43m,\u001b[49m\u001b[43m \u001b[49m\u001b[43mresult_mux\u001b[49m\u001b[43m)\u001b[49m\n\u001b[1;32m    274\u001b[0m \u001b[43m            \u001b[49m\u001b[38;5;28;43;01mfor\u001b[39;49;00m\u001b[43m \u001b[49m\u001b[43m(\u001b[49m\u001b[43mname\u001b[49m\u001b[43m,\u001b[49m\u001b[43m \u001b[49m\u001b[43mresult_mux_list\u001b[49m\u001b[43m)\u001b[49m\u001b[43m \u001b[49m\u001b[38;5;129;43;01min\u001b[39;49;00m\u001b[43m \u001b[49m\u001b[43mtotal_result_mux_list\u001b[49m\n\u001b[1;32m    275\u001b[0m \u001b[43m            \u001b[49m\u001b[38;5;28;43;01mfor\u001b[39;49;00m\u001b[43m \u001b[49m\u001b[43mresult_mux\u001b[49m\u001b[43m \u001b[49m\u001b[38;5;129;43;01min\u001b[39;49;00m\u001b[43m \u001b[49m\u001b[43mresult_mux_list\u001b[49m\n\u001b[1;32m    276\u001b[0m \u001b[43m        \u001b[49m\u001b[43m]\u001b[49m\u001b[43m,\u001b[49m\n\u001b[1;32m    277\u001b[0m \u001b[43m        \u001b[49m\u001b[38;5;28;43mself\u001b[39;49m\u001b[38;5;241;43m.\u001b[39;49m\u001b[43mimage_paths_dict\u001b[49m\u001b[43m,\u001b[49m\n\u001b[1;32m    278\u001b[0m \u001b[43m        \u001b[49m\u001b[38;5;28;43mself\u001b[39;49m\u001b[38;5;241;43m.\u001b[39;49m\u001b[43mimage_paths\u001b[49m\u001b[43m,\u001b[49m\n\u001b[1;32m    279\u001b[0m \u001b[43m    \u001b[49m\u001b[43m)\u001b[49m\n\u001b[1;32m    280\u001b[0m \u001b[38;5;28;01melif\u001b[39;00m \u001b[38;5;28mself\u001b[39m\u001b[38;5;241m.\u001b[39mmake_image_output:\n\u001b[1;32m    281\u001b[0m     total_result_mux_list \u001b[38;5;241m=\u001b[39m [\n\u001b[1;32m    282\u001b[0m         \u001b[38;5;28mself\u001b[39m\u001b[38;5;241m.\u001b[39mresult_mux_list[name] \u001b[38;5;28;01mfor\u001b[39;00m name, _ \u001b[38;5;129;01min\u001b[39;00m \u001b[38;5;28mself\u001b[39m\u001b[38;5;241m.\u001b[39mruntime_info\u001b[38;5;241m.\u001b[39mitems()\n\u001b[1;32m    283\u001b[0m     ]\n",
      "File \u001b[0;32m~/miniconda3/envs/furiosa-3.9/lib/python3.9/site-packages/src/warboy/utils/process_pipeline.py:441\u001b[0m, in \u001b[0;36mImageHandler.output_e2e_test_handler\u001b[0;34m(self, outputs, result_mux_list, image_paths_dict, image_paths)\u001b[0m\n\u001b[1;32m    439\u001b[0m     \u001b[38;5;28;01mcontinue\u001b[39;00m\n\u001b[1;32m    440\u001b[0m \u001b[38;5;28;01mtry\u001b[39;00m:\n\u001b[0;32m--> 441\u001b[0m     output, _, img_idx \u001b[38;5;241m=\u001b[39m \u001b[43mresult_mux\u001b[49m\u001b[38;5;241;43m.\u001b[39;49m\u001b[43mget\u001b[49m\u001b[43m(\u001b[49m\u001b[43m)\u001b[49m\n\u001b[1;32m    442\u001b[0m     \u001b[38;5;28;01mif\u001b[39;00m \u001b[38;5;129;01mnot\u001b[39;00m \u001b[38;5;28mlen\u001b[39m(output) \u001b[38;5;241m==\u001b[39m \u001b[38;5;241m1\u001b[39m:\n\u001b[1;32m    443\u001b[0m         \u001b[38;5;28mprint\u001b[39m(\u001b[38;5;28mlen\u001b[39m(output))\n",
      "File \u001b[0;32m~/miniconda3/envs/furiosa-3.9/lib/python3.9/site-packages/src/warboy/utils/queue.py:18\u001b[0m, in \u001b[0;36mPipeLineQueue.get\u001b[0;34m(self, block, timeout)\u001b[0m\n\u001b[1;32m     17\u001b[0m \u001b[38;5;28;01mdef\u001b[39;00m\u001b[38;5;250m \u001b[39m\u001b[38;5;21mget\u001b[39m(\u001b[38;5;28mself\u001b[39m, block: \u001b[38;5;28mbool\u001b[39m \u001b[38;5;241m=\u001b[39m \u001b[38;5;28;01mTrue\u001b[39;00m, timeout: Union[\u001b[38;5;28mfloat\u001b[39m, \u001b[38;5;28;01mNone\u001b[39;00m] \u001b[38;5;241m=\u001b[39m \u001b[38;5;28;01mNone\u001b[39;00m):\n\u001b[0;32m---> 18\u001b[0m     item \u001b[38;5;241m=\u001b[39m \u001b[38;5;28;43mself\u001b[39;49m\u001b[38;5;241;43m.\u001b[39;49m\u001b[43mqueue\u001b[49m\u001b[38;5;241;43m.\u001b[39;49m\u001b[43mget\u001b[49m\u001b[43m(\u001b[49m\u001b[43mblock\u001b[49m\u001b[38;5;241;43m=\u001b[39;49m\u001b[43mblock\u001b[49m\u001b[43m,\u001b[49m\u001b[43m \u001b[49m\u001b[43mtimeout\u001b[49m\u001b[38;5;241;43m=\u001b[39;49m\u001b[43mtimeout\u001b[49m\u001b[43m)\u001b[49m\n\u001b[1;32m     20\u001b[0m     \u001b[38;5;28;01mif\u001b[39;00m item \u001b[38;5;129;01mis\u001b[39;00m StopSig:\n\u001b[1;32m     21\u001b[0m         \u001b[38;5;66;03m# self.put(StopSig)\u001b[39;00m\n\u001b[1;32m     22\u001b[0m         \u001b[38;5;28;01mraise\u001b[39;00m QueueClosedError\n",
      "File \u001b[0;32m~/miniconda3/envs/furiosa-3.9/lib/python3.9/multiprocessing/queues.py:103\u001b[0m, in \u001b[0;36mQueue.get\u001b[0;34m(self, block, timeout)\u001b[0m\n\u001b[1;32m    101\u001b[0m \u001b[38;5;28;01mif\u001b[39;00m block \u001b[38;5;129;01mand\u001b[39;00m timeout \u001b[38;5;129;01mis\u001b[39;00m \u001b[38;5;28;01mNone\u001b[39;00m:\n\u001b[1;32m    102\u001b[0m     \u001b[38;5;28;01mwith\u001b[39;00m \u001b[38;5;28mself\u001b[39m\u001b[38;5;241m.\u001b[39m_rlock:\n\u001b[0;32m--> 103\u001b[0m         res \u001b[38;5;241m=\u001b[39m \u001b[38;5;28;43mself\u001b[39;49m\u001b[38;5;241;43m.\u001b[39;49m\u001b[43m_recv_bytes\u001b[49m\u001b[43m(\u001b[49m\u001b[43m)\u001b[49m\n\u001b[1;32m    104\u001b[0m     \u001b[38;5;28mself\u001b[39m\u001b[38;5;241m.\u001b[39m_sem\u001b[38;5;241m.\u001b[39mrelease()\n\u001b[1;32m    105\u001b[0m \u001b[38;5;28;01melse\u001b[39;00m:\n",
      "File \u001b[0;32m~/miniconda3/envs/furiosa-3.9/lib/python3.9/multiprocessing/connection.py:216\u001b[0m, in \u001b[0;36m_ConnectionBase.recv_bytes\u001b[0;34m(self, maxlength)\u001b[0m\n\u001b[1;32m    214\u001b[0m \u001b[38;5;28;01mif\u001b[39;00m maxlength \u001b[38;5;129;01mis\u001b[39;00m \u001b[38;5;129;01mnot\u001b[39;00m \u001b[38;5;28;01mNone\u001b[39;00m \u001b[38;5;129;01mand\u001b[39;00m maxlength \u001b[38;5;241m<\u001b[39m \u001b[38;5;241m0\u001b[39m:\n\u001b[1;32m    215\u001b[0m     \u001b[38;5;28;01mraise\u001b[39;00m \u001b[38;5;167;01mValueError\u001b[39;00m(\u001b[38;5;124m\"\u001b[39m\u001b[38;5;124mnegative maxlength\u001b[39m\u001b[38;5;124m\"\u001b[39m)\n\u001b[0;32m--> 216\u001b[0m buf \u001b[38;5;241m=\u001b[39m \u001b[38;5;28;43mself\u001b[39;49m\u001b[38;5;241;43m.\u001b[39;49m\u001b[43m_recv_bytes\u001b[49m\u001b[43m(\u001b[49m\u001b[43mmaxlength\u001b[49m\u001b[43m)\u001b[49m\n\u001b[1;32m    217\u001b[0m \u001b[38;5;28;01mif\u001b[39;00m buf \u001b[38;5;129;01mis\u001b[39;00m \u001b[38;5;28;01mNone\u001b[39;00m:\n\u001b[1;32m    218\u001b[0m     \u001b[38;5;28mself\u001b[39m\u001b[38;5;241m.\u001b[39m_bad_message_length()\n",
      "File \u001b[0;32m~/miniconda3/envs/furiosa-3.9/lib/python3.9/multiprocessing/connection.py:414\u001b[0m, in \u001b[0;36mConnection._recv_bytes\u001b[0;34m(self, maxsize)\u001b[0m\n\u001b[1;32m    413\u001b[0m \u001b[38;5;28;01mdef\u001b[39;00m\u001b[38;5;250m \u001b[39m\u001b[38;5;21m_recv_bytes\u001b[39m(\u001b[38;5;28mself\u001b[39m, maxsize\u001b[38;5;241m=\u001b[39m\u001b[38;5;28;01mNone\u001b[39;00m):\n\u001b[0;32m--> 414\u001b[0m     buf \u001b[38;5;241m=\u001b[39m \u001b[38;5;28;43mself\u001b[39;49m\u001b[38;5;241;43m.\u001b[39;49m\u001b[43m_recv\u001b[49m\u001b[43m(\u001b[49m\u001b[38;5;241;43m4\u001b[39;49m\u001b[43m)\u001b[49m\n\u001b[1;32m    415\u001b[0m     size, \u001b[38;5;241m=\u001b[39m struct\u001b[38;5;241m.\u001b[39munpack(\u001b[38;5;124m\"\u001b[39m\u001b[38;5;124m!i\u001b[39m\u001b[38;5;124m\"\u001b[39m, buf\u001b[38;5;241m.\u001b[39mgetvalue())\n\u001b[1;32m    416\u001b[0m     \u001b[38;5;28;01mif\u001b[39;00m size \u001b[38;5;241m==\u001b[39m \u001b[38;5;241m-\u001b[39m\u001b[38;5;241m1\u001b[39m:\n",
      "File \u001b[0;32m~/miniconda3/envs/furiosa-3.9/lib/python3.9/multiprocessing/connection.py:379\u001b[0m, in \u001b[0;36mConnection._recv\u001b[0;34m(self, size, read)\u001b[0m\n\u001b[1;32m    377\u001b[0m remaining \u001b[38;5;241m=\u001b[39m size\n\u001b[1;32m    378\u001b[0m \u001b[38;5;28;01mwhile\u001b[39;00m remaining \u001b[38;5;241m>\u001b[39m \u001b[38;5;241m0\u001b[39m:\n\u001b[0;32m--> 379\u001b[0m     chunk \u001b[38;5;241m=\u001b[39m \u001b[43mread\u001b[49m\u001b[43m(\u001b[49m\u001b[43mhandle\u001b[49m\u001b[43m,\u001b[49m\u001b[43m \u001b[49m\u001b[43mremaining\u001b[49m\u001b[43m)\u001b[49m\n\u001b[1;32m    380\u001b[0m     n \u001b[38;5;241m=\u001b[39m \u001b[38;5;28mlen\u001b[39m(chunk)\n\u001b[1;32m    381\u001b[0m     \u001b[38;5;28;01mif\u001b[39;00m n \u001b[38;5;241m==\u001b[39m \u001b[38;5;241m0\u001b[39m:\n",
      "\u001b[0;31mKeyboardInterrupt\u001b[0m: "
     ]
    },
    {
     "name": "stderr",
     "output_type": "stream",
     "text": [
      "Process <src.warboy.runtime.warboy_runtime.WarboyQueueRuntime object at 0x7f30efe50580>:\n",
      "Process <src.warboy.runtime.warboy_runtime.WarboyQueueRuntime object at 0x7f30efe5d400>:\n",
      "Process <src.warboy.utils.image_decoder.ImageListDecoder object at 0x7f30efe59ca0>:\n",
      "Process <src.warboy.utils.image_decoder.ImageListDecoder object at 0x7f30efe65040>:\n",
      "Traceback (most recent call last):\n",
      "Traceback (most recent call last):\n",
      "Traceback (most recent call last):\n",
      "  File \"/root/miniconda3/envs/furiosa-3.9/lib/python3.9/multiprocessing/process.py\", line 315, in _bootstrap\n",
      "    self.run()\n",
      "  File \"/root/miniconda3/envs/furiosa-3.9/lib/python3.9/multiprocessing/process.py\", line 315, in _bootstrap\n",
      "    self.run()\n",
      "  File \"/root/miniconda3/envs/furiosa-3.9/lib/python3.9/multiprocessing/process.py\", line 315, in _bootstrap\n",
      "    self.run()\n",
      "  File \"/root/miniconda3/envs/furiosa-3.9/lib/python3.9/multiprocessing/process.py\", line 108, in run\n",
      "    self._target(*self._args, **self._kwargs)\n",
      "  File \"/root/miniconda3/envs/furiosa-3.9/lib/python3.9/multiprocessing/process.py\", line 108, in run\n",
      "    self._target(*self._args, **self._kwargs)\n",
      "  File \"/root/miniconda3/envs/furiosa-3.9/lib/python3.9/multiprocessing/process.py\", line 108, in run\n",
      "    self._target(*self._args, **self._kwargs)\n",
      "  File \"/root/miniconda3/envs/furiosa-3.9/lib/python3.9/site-packages/src/warboy/utils/image_decoder.py\", line 31, in run\n",
      "    img = cv2.imread(image_path)\n",
      "  File \"/root/miniconda3/envs/furiosa-3.9/lib/python3.9/site-packages/src/warboy/runtime/warboy_runtime.py\", line 101, in run\n",
      "    asyncio.run(self.run_())\n",
      "  File \"/root/miniconda3/envs/furiosa-3.9/lib/python3.9/site-packages/src/warboy/runtime/warboy_runtime.py\", line 101, in run\n",
      "    asyncio.run(self.run_())\n",
      "KeyboardInterrupt\n",
      "  File \"/root/miniconda3/envs/furiosa-3.9/lib/python3.9/asyncio/runners.py\", line 47, in run\n",
      "    _cancel_all_tasks(loop)\n",
      "  File \"/root/miniconda3/envs/furiosa-3.9/lib/python3.9/asyncio/runners.py\", line 47, in run\n",
      "    _cancel_all_tasks(loop)\n",
      "  File \"/root/miniconda3/envs/furiosa-3.9/lib/python3.9/asyncio/runners.py\", line 63, in _cancel_all_tasks\n",
      "    loop.run_until_complete(\n",
      "\n",
      "During handling of the above exception, another exception occurred:\n",
      "\n",
      "  File \"/root/miniconda3/envs/furiosa-3.9/lib/python3.9/asyncio/runners.py\", line 63, in _cancel_all_tasks\n",
      "    loop.run_until_complete(\n",
      "  File \"/root/miniconda3/envs/furiosa-3.9/lib/python3.9/asyncio/base_events.py\", line 634, in run_until_complete\n",
      "    self.run_forever()\n",
      "Traceback (most recent call last):\n",
      "Traceback (most recent call last):\n",
      "  File \"/root/miniconda3/envs/furiosa-3.9/lib/python3.9/asyncio/base_events.py\", line 634, in run_until_complete\n",
      "    self.run_forever()\n",
      "  File \"/root/miniconda3/envs/furiosa-3.9/lib/python3.9/asyncio/base_events.py\", line 601, in run_forever\n",
      "    self._run_once()\n",
      "  File \"/root/miniconda3/envs/furiosa-3.9/lib/python3.9/multiprocessing/process.py\", line 318, in _bootstrap\n",
      "    util._exit_function()\n",
      "  File \"/root/miniconda3/envs/furiosa-3.9/lib/python3.9/asyncio/base_events.py\", line 601, in run_forever\n",
      "    self._run_once()\n",
      "  File \"/root/miniconda3/envs/furiosa-3.9/lib/python3.9/multiprocessing/process.py\", line 315, in _bootstrap\n",
      "    self.run()\n",
      "  File \"/root/miniconda3/envs/furiosa-3.9/lib/python3.9/asyncio/base_events.py\", line 1905, in _run_once\n",
      "    handle._run()\n",
      "  File \"/root/miniconda3/envs/furiosa-3.9/lib/python3.9/asyncio/base_events.py\", line 1905, in _run_once\n",
      "    handle._run()\n",
      "  File \"/root/miniconda3/envs/furiosa-3.9/lib/python3.9/multiprocessing/util.py\", line 360, in _exit_function\n",
      "    _run_finalizers()\n",
      "  File \"/root/miniconda3/envs/furiosa-3.9/lib/python3.9/multiprocessing/process.py\", line 108, in run\n",
      "    self._target(*self._args, **self._kwargs)\n",
      "  File \"/root/miniconda3/envs/furiosa-3.9/lib/python3.9/asyncio/events.py\", line 80, in _run\n",
      "    self._context.run(self._callback, *self._args)\n",
      "  File \"/root/miniconda3/envs/furiosa-3.9/lib/python3.9/asyncio/events.py\", line 80, in _run\n",
      "    self._context.run(self._callback, *self._args)\n",
      "  File \"/root/miniconda3/envs/furiosa-3.9/lib/python3.9/multiprocessing/util.py\", line 300, in _run_finalizers\n",
      "    finalizer()\n",
      "  File \"/root/miniconda3/envs/furiosa-3.9/lib/python3.9/site-packages/src/warboy/utils/image_decoder.py\", line 30, in run\n",
      "    image_path = self.image_paths.get()\n",
      "  File \"/root/miniconda3/envs/furiosa-3.9/lib/python3.9/site-packages/src/warboy/runtime/warboy_runtime.py\", line 113, in run_\n",
      "    await asyncio.gather(*task)\n",
      "  File \"/root/miniconda3/envs/furiosa-3.9/lib/python3.9/site-packages/src/warboy/runtime/warboy_runtime.py\", line 113, in run_\n",
      "    await asyncio.gather(*task)\n",
      "  File \"/root/miniconda3/envs/furiosa-3.9/lib/python3.9/site-packages/src/warboy/utils/queue.py\", line 18, in get\n",
      "    item = self.queue.get(block=block, timeout=timeout)\n",
      "  File \"/root/miniconda3/envs/furiosa-3.9/lib/python3.9/multiprocessing/util.py\", line 224, in __call__\n",
      "    res = self._callback(*self._args, **self._kwargs)\n",
      "  File \"/root/miniconda3/envs/furiosa-3.9/lib/python3.9/asyncio/runners.py\", line 44, in run\n",
      "    return loop.run_until_complete(main)\n",
      "  File \"/root/miniconda3/envs/furiosa-3.9/lib/python3.9/asyncio/runners.py\", line 44, in run\n",
      "    return loop.run_until_complete(main)\n",
      "  File \"/root/miniconda3/envs/furiosa-3.9/lib/python3.9/multiprocessing/queues.py\", line 103, in get\n",
      "    res = self._recv_bytes()\n",
      "  File \"/root/miniconda3/envs/furiosa-3.9/lib/python3.9/multiprocessing/queues.py\", line 199, in _finalize_join\n",
      "    thread.join()\n",
      "  File \"/root/miniconda3/envs/furiosa-3.9/lib/python3.9/asyncio/base_events.py\", line 634, in run_until_complete\n",
      "    self.run_forever()\n",
      "  File \"/root/miniconda3/envs/furiosa-3.9/lib/python3.9/asyncio/base_events.py\", line 634, in run_until_complete\n",
      "    self.run_forever()\n",
      "  File \"/root/miniconda3/envs/furiosa-3.9/lib/python3.9/multiprocessing/connection.py\", line 216, in recv_bytes\n",
      "    buf = self._recv_bytes(maxlength)\n",
      "  File \"/root/miniconda3/envs/furiosa-3.9/lib/python3.9/threading.py\", line 1060, in join\n",
      "    self._wait_for_tstate_lock()\n",
      "  File \"/root/miniconda3/envs/furiosa-3.9/lib/python3.9/asyncio/base_events.py\", line 601, in run_forever\n",
      "    self._run_once()\n",
      "  File \"/root/miniconda3/envs/furiosa-3.9/lib/python3.9/asyncio/base_events.py\", line 601, in run_forever\n",
      "    self._run_once()\n",
      "  File \"/root/miniconda3/envs/furiosa-3.9/lib/python3.9/multiprocessing/connection.py\", line 414, in _recv_bytes\n",
      "    buf = self._recv(4)\n",
      "  File \"/root/miniconda3/envs/furiosa-3.9/lib/python3.9/threading.py\", line 1080, in _wait_for_tstate_lock\n",
      "    if lock.acquire(block, timeout):\n",
      "  File \"/root/miniconda3/envs/furiosa-3.9/lib/python3.9/asyncio/base_events.py\", line 1905, in _run_once\n",
      "    handle._run()\n",
      "KeyboardInterrupt\n",
      "  File \"/root/miniconda3/envs/furiosa-3.9/lib/python3.9/multiprocessing/connection.py\", line 379, in _recv\n",
      "    chunk = read(handle, remaining)\n",
      "  File \"/root/miniconda3/envs/furiosa-3.9/lib/python3.9/asyncio/base_events.py\", line 1905, in _run_once\n",
      "    handle._run()\n",
      "KeyboardInterrupt\n",
      "  File \"/root/miniconda3/envs/furiosa-3.9/lib/python3.9/asyncio/events.py\", line 80, in _run\n",
      "    self._context.run(self._callback, *self._args)\n",
      "  File \"/root/miniconda3/envs/furiosa-3.9/lib/python3.9/asyncio/events.py\", line 80, in _run\n",
      "    self._context.run(self._callback, *self._args)\n",
      "  File \"/root/miniconda3/envs/furiosa-3.9/lib/python3.9/site-packages/src/warboy/runtime/warboy_runtime.py\", line 119, in submit_with\n",
      "    input_, img_idx = self.stream_mux_list[video_channel].get()\n",
      "  File \"/root/miniconda3/envs/furiosa-3.9/lib/python3.9/site-packages/src/warboy/runtime/warboy_runtime.py\", line 119, in submit_with\n",
      "    input_, img_idx = self.stream_mux_list[video_channel].get()\n",
      "\n",
      "During handling of the above exception, another exception occurred:\n",
      "\n",
      "  File \"/root/miniconda3/envs/furiosa-3.9/lib/python3.9/site-packages/src/warboy/utils/queue.py\", line 18, in get\n",
      "    item = self.queue.get(block=block, timeout=timeout)\n",
      "  File \"/root/miniconda3/envs/furiosa-3.9/lib/python3.9/site-packages/src/warboy/utils/queue.py\", line 18, in get\n",
      "    item = self.queue.get(block=block, timeout=timeout)\n",
      "Traceback (most recent call last):\n",
      "  File \"/root/miniconda3/envs/furiosa-3.9/lib/python3.9/multiprocessing/queues.py\", line 103, in get\n",
      "    res = self._recv_bytes()\n",
      "  File \"/root/miniconda3/envs/furiosa-3.9/lib/python3.9/multiprocessing/queues.py\", line 103, in get\n",
      "    res = self._recv_bytes()\n",
      "  File \"/root/miniconda3/envs/furiosa-3.9/lib/python3.9/multiprocessing/process.py\", line 318, in _bootstrap\n",
      "    util._exit_function()\n",
      "  File \"/root/miniconda3/envs/furiosa-3.9/lib/python3.9/multiprocessing/connection.py\", line 216, in recv_bytes\n",
      "    buf = self._recv_bytes(maxlength)\n",
      "  File \"/root/miniconda3/envs/furiosa-3.9/lib/python3.9/multiprocessing/connection.py\", line 216, in recv_bytes\n",
      "    buf = self._recv_bytes(maxlength)\n",
      "  File \"/root/miniconda3/envs/furiosa-3.9/lib/python3.9/multiprocessing/util.py\", line 360, in _exit_function\n",
      "    _run_finalizers()\n",
      "  File \"/root/miniconda3/envs/furiosa-3.9/lib/python3.9/multiprocessing/connection.py\", line 421, in _recv_bytes\n",
      "    return self._recv(size)\n",
      "  File \"/root/miniconda3/envs/furiosa-3.9/lib/python3.9/multiprocessing/connection.py\", line 414, in _recv_bytes\n",
      "    buf = self._recv(4)\n",
      "  File \"/root/miniconda3/envs/furiosa-3.9/lib/python3.9/multiprocessing/connection.py\", line 379, in _recv\n",
      "    chunk = read(handle, remaining)\n",
      "  File \"/root/miniconda3/envs/furiosa-3.9/lib/python3.9/multiprocessing/util.py\", line 300, in _run_finalizers\n",
      "    finalizer()\n",
      "  File \"/root/miniconda3/envs/furiosa-3.9/lib/python3.9/multiprocessing/connection.py\", line 379, in _recv\n",
      "    chunk = read(handle, remaining)\n",
      "KeyboardInterrupt\n",
      "  File \"/root/miniconda3/envs/furiosa-3.9/lib/python3.9/multiprocessing/util.py\", line 224, in __call__\n",
      "    res = self._callback(*self._args, **self._kwargs)\n",
      "  File \"/root/miniconda3/envs/furiosa-3.9/lib/python3.9/multiprocessing/queues.py\", line 199, in _finalize_join\n",
      "    thread.join()\n",
      "\n",
      "During handling of the above exception, another exception occurred:\n",
      "\n",
      "KeyboardInterrupt\n",
      "  File \"/root/miniconda3/envs/furiosa-3.9/lib/python3.9/threading.py\", line 1060, in join\n",
      "    self._wait_for_tstate_lock()\n",
      "\n",
      "During handling of the above exception, another exception occurred:\n",
      "\n",
      "  File \"/root/miniconda3/envs/furiosa-3.9/lib/python3.9/threading.py\", line 1080, in _wait_for_tstate_lock\n",
      "    if lock.acquire(block, timeout):\n",
      "Traceback (most recent call last):\n",
      "Traceback (most recent call last):\n",
      "KeyboardInterrupt\n",
      "  File \"/root/miniconda3/envs/furiosa-3.9/lib/python3.9/multiprocessing/process.py\", line 318, in _bootstrap\n",
      "    util._exit_function()\n",
      "  File \"/root/miniconda3/envs/furiosa-3.9/lib/python3.9/multiprocessing/process.py\", line 318, in _bootstrap\n",
      "    util._exit_function()\n",
      "  File \"/root/miniconda3/envs/furiosa-3.9/lib/python3.9/multiprocessing/util.py\", line 360, in _exit_function\n",
      "    _run_finalizers()\n",
      "  File \"/root/miniconda3/envs/furiosa-3.9/lib/python3.9/multiprocessing/util.py\", line 360, in _exit_function\n",
      "    _run_finalizers()\n",
      "  File \"/root/miniconda3/envs/furiosa-3.9/lib/python3.9/multiprocessing/util.py\", line 300, in _run_finalizers\n",
      "    finalizer()\n",
      "  File \"/root/miniconda3/envs/furiosa-3.9/lib/python3.9/multiprocessing/util.py\", line 300, in _run_finalizers\n",
      "    finalizer()\n",
      "  File \"/root/miniconda3/envs/furiosa-3.9/lib/python3.9/multiprocessing/util.py\", line 224, in __call__\n",
      "    res = self._callback(*self._args, **self._kwargs)\n",
      "  File \"/root/miniconda3/envs/furiosa-3.9/lib/python3.9/multiprocessing/util.py\", line 224, in __call__\n",
      "    res = self._callback(*self._args, **self._kwargs)\n",
      "  File \"/root/miniconda3/envs/furiosa-3.9/lib/python3.9/multiprocessing/queues.py\", line 199, in _finalize_join\n",
      "    thread.join()\n",
      "  File \"/root/miniconda3/envs/furiosa-3.9/lib/python3.9/multiprocessing/queues.py\", line 199, in _finalize_join\n",
      "    thread.join()\n",
      "  File \"/root/miniconda3/envs/furiosa-3.9/lib/python3.9/threading.py\", line 1060, in join\n",
      "    self._wait_for_tstate_lock()\n",
      "  File \"/root/miniconda3/envs/furiosa-3.9/lib/python3.9/threading.py\", line 1060, in join\n",
      "    self._wait_for_tstate_lock()\n",
      "  File \"/root/miniconda3/envs/furiosa-3.9/lib/python3.9/threading.py\", line 1080, in _wait_for_tstate_lock\n",
      "    if lock.acquire(block, timeout):\n",
      "  File \"/root/miniconda3/envs/furiosa-3.9/lib/python3.9/threading.py\", line 1080, in _wait_for_tstate_lock\n",
      "    if lock.acquire(block, timeout):\n",
      "KeyboardInterrupt\n",
      "KeyboardInterrupt\n"
     ]
    }
   ],
   "source": [
    "from src.test_scenarios.e2e.test_object_det import test_warboy_yolo_accuracy_det\n",
    "\n",
    "test_warboy_yolo_accuracy_det(\n",
    "    model_name = 'yolov8n', \n",
    "    model = param['onnx_i8_path'], \n",
    "    input_shape= param['input_shape'], \n",
    "    image_dir = \"../../datasets/coco/val2017\",\n",
    "    annotation_file = \"../../datasets/coco/annotations/instances_val2017.json\",\n",
    "    anchors= param['anchors'],\n",
    ")\n"
   ]
  },
  {
   "cell_type": "markdown",
   "id": "752d272b",
   "metadata": {},
   "source": [
    "### Web Demo with Fast API"
   ]
  },
  {
   "cell_type": "markdown",
   "id": "5060eb53",
   "metadata": {},
   "source": [
    "To run the web demo, you need to prepare the demo configuration file. You can check the configuration file in `demo_config.yaml` file.\n",
    "\n",
    "After running the web demo, you can access the web demo at `http://localhost:20001` or `http://0.0.0.0:20001`.\n",
    "\n",
    "If you're using a remote server, you should port foward the port 20001 to your local machine. You can do this by running the following command **at your local machine**:\n",
    "\n",
    "```console\n",
    "$ ssh -L 20001:localhost:20001 <username>@<ip_address>\n",
    "```\n"
   ]
  },
  {
   "cell_type": "code",
   "execution_count": 6,
   "id": "abac1047",
   "metadata": {},
   "outputs": [
    {
     "name": "stdout",
     "output_type": "stream",
     "text": [
      "0.25Init ByteTrack! 0.7 [None] True\n",
      "\n",
      "WarboyQueueRuntime - init\n"
     ]
    },
    {
     "name": "stderr",
     "output_type": "stream",
     "text": [
      "Process Process-26:\n",
      "Traceback (most recent call last):\n",
      "  File \"/root/miniconda3/envs/furiosa-3.9/lib/python3.9/multiprocessing/process.py\", line 315, in _bootstrap\n",
      "    self.run()\n",
      "  File \"/root/miniconda3/envs/furiosa-3.9/lib/python3.9/multiprocessing/process.py\", line 108, in run\n",
      "    self._target(*self._args, **self._kwargs)\n",
      "  File \"/root/miniconda3/envs/furiosa-3.9/lib/python3.9/site-packages/src/warboy/viewer.py\", line 80, in run_viewer\n",
      "    uvicorn.run(*args, **kwargs)\n",
      "  File \"/root/miniconda3/envs/furiosa-3.9/lib/python3.9/site-packages/uvicorn/main.py\", line 580, in run\n",
      "    server.run()\n",
      "  File \"/root/miniconda3/envs/furiosa-3.9/lib/python3.9/site-packages/uvicorn/server.py\", line 66, in run\n",
      "    return asyncio.run(self.serve(sockets=sockets))\n",
      "  File \"/root/miniconda3/envs/furiosa-3.9/lib/python3.9/asyncio/runners.py\", line 44, in run\n",
      "    return loop.run_until_complete(main)\n",
      "  File \"uvloop/loop.pyx\", line 1518, in uvloop.loop.Loop.run_until_complete\n",
      "  File \"/root/miniconda3/envs/furiosa-3.9/lib/python3.9/site-packages/uvicorn/server.py\", line 70, in serve\n",
      "    await self._serve(sockets)\n",
      "  File \"/root/miniconda3/envs/furiosa-3.9/lib/python3.9/site-packages/uvicorn/server.py\", line 77, in _serve\n",
      "    config.load()\n",
      "  File \"/root/miniconda3/envs/furiosa-3.9/lib/python3.9/site-packages/uvicorn/config.py\", line 435, in load\n",
      "    self.loaded_app = import_from_string(self.app)\n"
     ]
    },
    {
     "name": "stdout",
     "output_type": "stream",
     "text": [
      "\u001b[2m2025-04-22T09:49:19.704989Z\u001b[0m \u001b[32m INFO\u001b[0m \u001b[2mfuriosa_rt_core::driver::event_driven::coord\u001b[0m\u001b[2m:\u001b[0m FuriosaRT (v0.10.5, rev: 5537afb71-modified, built at: 2025-01-10T02:06:37Z) bootstrapping ...\n",
      "\u001b[2m2025-04-22T09:49:19.707581Z\u001b[0m \u001b[32m INFO\u001b[0m \u001b[2mfuriosa_rt_core::driver::event_driven::coord\u001b[0m\u001b[2m:\u001b[0m Found furiosa-compiler (v0.10.1, rev: 8b00177, built at: 2025-01-08T03:45:42Z)\n",
      "\u001b[2m2025-04-22T09:49:19.707586Z\u001b[0m \u001b[32m INFO\u001b[0m \u001b[2mfuriosa_rt_core::driver::event_driven::coord\u001b[0m\u001b[2m:\u001b[0m Found libhal (type: warboy, v0.12.0, rev: 56530c0 built at: 2023-11-16T12:34:03Z)\n",
      "\u001b[2m2025-04-22T09:49:19.707592Z\u001b[0m \u001b[32m INFO\u001b[0m \u001b[2mfuriosa_rt_core::driver::event_driven::coord\u001b[0m\u001b[2m:\u001b[0m [Runtime-0] detected 1 NPU device(s):\n",
      "\u001b[2m2025-04-22T09:49:19.732568Z\u001b[0m \u001b[32m INFO\u001b[0m \u001b[2mfuriosa_rt_core::driver::event_driven::coord\u001b[0m\u001b[2m:\u001b[0m - [0] npu:1:0 (warboy-b0, 64dpes, firmware: 1.8.0, 7550956)\n",
      "\u001b[2m2025-04-22T09:49:19.732690Z\u001b[0m \u001b[32m INFO\u001b[0m \u001b[2mfuriosa_rt_core::driver::event_driven::coord\u001b[0m\u001b[2m:\u001b[0m [Runtime-0] started\n",
      "\u001b[2m2025-04-22T09:49:19.734970Z\u001b[0m \u001b[32m INFO\u001b[0m \u001b[2mfuriosa::runtime\u001b[0m\u001b[2m:\u001b[0m Saving the compilation log into /root/.local/state/furiosa/logs/compiler-20250422094919-livglj.log\n",
      "\u001b[2m2025-04-22T09:49:19.740649Z\u001b[0m \u001b[32m INFO\u001b[0m \u001b[2mfuriosa_rt_core::driver::event_driven::coord\u001b[0m\u001b[2m:\u001b[0m [Runtime-0] created Sess-898f8f3c using npu:1:0\n"
     ]
    },
    {
     "name": "stderr",
     "output_type": "stream",
     "text": [
      "  File \"/root/miniconda3/envs/furiosa-3.9/lib/python3.9/site-packages/uvicorn/importer.py\", line 22, in import_from_string\n",
      "    raise exc from None\n",
      "  File \"/root/miniconda3/envs/furiosa-3.9/lib/python3.9/site-packages/uvicorn/importer.py\", line 19, in import_from_string\n",
      "    module = importlib.import_module(module_str)\n",
      "  File \"/root/miniconda3/envs/furiosa-3.9/lib/python3.9/importlib/__init__.py\", line 127, in import_module\n",
      "    return _bootstrap._gcd_import(name[level:], package, level)\n"
     ]
    },
    {
     "name": "stdout",
     "output_type": "stream",
     "text": [
      "\u001b[2m2025-04-22T09:49:19.762624Z\u001b[0m \u001b[32m INFO\u001b[0m \u001b[2mfuriosa_rt_core::driver::event_driven::coord\u001b[0m\u001b[2m:\u001b[0m [Sess-898f8f3c] compiling the model (target: warboy-b0, 64dpes, file: yolov8n_i8.onnx, size: 12.1 MiB)\n"
     ]
    },
    {
     "name": "stderr",
     "output_type": "stream",
     "text": [
      "  File \"<frozen importlib._bootstrap>\", line 1030, in _gcd_import\n",
      "  File \"<frozen importlib._bootstrap>\", line 1007, in _find_and_load\n"
     ]
    },
    {
     "name": "stdout",
     "output_type": "stream",
     "text": [
      "\u001b[2m2025-04-22T09:49:20.069162Z\u001b[0m \u001b[32m INFO\u001b[0m \u001b[2mfuriosa_rt_core::driver::event_driven::coord\u001b[0m\u001b[2m:\u001b[0m [Sess-898f8f3c] the model compile is successful (took 0 secs)\n"
     ]
    },
    {
     "name": "stderr",
     "output_type": "stream",
     "text": [
      "  File \"<frozen importlib._bootstrap>\", line 972, in _find_and_load_unlocked\n"
     ]
    },
    {
     "name": "stdout",
     "output_type": "stream",
     "text": [
      "\u001b[2m2025-04-22T09:49:20.132606Z\u001b[0m \u001b[32m INFO\u001b[0m \u001b[2mfuriosa_rt_core::driver::event_driven::coord\u001b[0m\u001b[2m:\u001b[0m [Runtime-0] created 32 NPU threads on npu:1:0 (DRAM: 85.3 MiB/16.0 GiB, SRAM: 11.3 MiB/64.0 MiB)\n"
     ]
    },
    {
     "name": "stderr",
     "output_type": "stream",
     "text": [
      "  File \"<frozen importlib._bootstrap>\", line 228, in _call_with_frames_removed\n",
      "  File \"<frozen importlib._bootstrap>\", line 1030, in _gcd_import\n",
      "  File \"<frozen importlib._bootstrap>\", line 1007, in _find_and_load\n",
      "  File \"<frozen importlib._bootstrap>\", line 984, in _find_and_load_unlocked\n",
      "ModuleNotFoundError: No module named 'warboy'\n"
     ]
    },
    {
     "ename": "KeyboardInterrupt",
     "evalue": "",
     "output_type": "error",
     "traceback": [
      "\u001b[0;31m---------------------------------------------------------------------------\u001b[0m",
      "\u001b[0;31mKeyboardInterrupt\u001b[0m                         Traceback (most recent call last)",
      "Cell \u001b[0;32mIn[6], line 5\u001b[0m\n\u001b[1;32m      1\u001b[0m \u001b[38;5;28;01mfrom\u001b[39;00m\u001b[38;5;250m \u001b[39m\u001b[38;5;21;01msrc\u001b[39;00m\u001b[38;5;21;01m.\u001b[39;00m\u001b[38;5;21;01mdemo\u001b[39;00m\u001b[38;5;21;01m.\u001b[39;00m\u001b[38;5;21;01mdemo\u001b[39;00m\u001b[38;5;250m \u001b[39m\u001b[38;5;28;01mimport\u001b[39;00m run_web_demo\n\u001b[1;32m      3\u001b[0m demo_cfg_path \u001b[38;5;241m=\u001b[39m \u001b[38;5;124m'\u001b[39m\u001b[38;5;124m../cfg/demo.yaml\u001b[39m\u001b[38;5;124m'\u001b[39m\n\u001b[0;32m----> 5\u001b[0m \u001b[43mrun_web_demo\u001b[49m\u001b[43m(\u001b[49m\n\u001b[1;32m      6\u001b[0m \u001b[43m    \u001b[49m\u001b[43mcfg_path\u001b[49m\u001b[43m \u001b[49m\u001b[38;5;241;43m=\u001b[39;49m\u001b[43m \u001b[49m\u001b[43mdemo_cfg_path\u001b[49m\n\u001b[1;32m      7\u001b[0m \u001b[43m)\u001b[49m\n",
      "File \u001b[0;32m~/miniconda3/envs/furiosa-3.9/lib/python3.9/site-packages/src/demo/demo.py:22\u001b[0m, in \u001b[0;36mrun_web_demo\u001b[0;34m(cfg_path)\u001b[0m\n\u001b[1;32m     19\u001b[0m spawn_web_viewer(\u001b[38;5;124m\"\u001b[39m\u001b[38;5;124m20001\u001b[39m\u001b[38;5;124m\"\u001b[39m, result_queues)\n\u001b[1;32m     21\u001b[0m \u001b[38;5;28;01mwhile\u001b[39;00m \u001b[38;5;28;01mTrue\u001b[39;00m:\n\u001b[0;32m---> 22\u001b[0m     \u001b[38;5;28;01mcontinue\u001b[39;00m\n",
      "\u001b[0;31mKeyboardInterrupt\u001b[0m: "
     ]
    }
   ],
   "source": [
    "from src.demo.demo import run_web_demo\n",
    "\n",
    "demo_cfg_path = '../cfg/demo.yaml'\n",
    "\n",
    "run_web_demo(\n",
    "    cfg_path = demo_cfg_path\n",
    ")\n"
   ]
  },
  {
   "cell_type": "markdown",
   "id": "4867d998",
   "metadata": {},
   "source": [
    "### NPU Profiling"
   ]
  },
  {
   "cell_type": "markdown",
   "id": "05f0346e",
   "metadata": {},
   "source": [
    "In Furiosa SDK, we provide a profiling tool to analyze the performance of the model. You can use the profiling tool to measure the time taken by each operation in the model and identify the bottlenecks in the model.\n",
    "\n",
    "After running the command, the trace file will be saved in the `models/trace` directory. You can visualize the trace analysis using the Chrome web browser's Trace Event Profiling Tool (chrome://tracing). This will help you understand the performance of the model and optimize it for better performance.\n"
   ]
  },
  {
   "cell_type": "markdown",
   "id": "d5cda200",
   "metadata": {},
   "source": [
    "There can be `OpenTelemetry trace error occurred. cannot send span to the batch span processor because the channel is full` warning messages when writing the trace file. But you can ignore them.\n"
   ]
  },
  {
   "cell_type": "code",
   "execution_count": null,
   "id": "72a948a2",
   "metadata": {},
   "outputs": [],
   "source": [
    "from src.test_scenarios.e2e.test_npu_performance import test_warboy_performance\n",
    "\n",
    "test_warboy_performance(\n",
    "    cfg = cfg,\n",
    "    num_device = 1,\n",
    ")\n"
   ]
  }
 ],
 "metadata": {
  "kernelspec": {
   "display_name": "furiosa-3.9",
   "language": "python",
   "name": "python3"
  },
  "language_info": {
   "codemirror_mode": {
    "name": "ipython",
    "version": 3
   },
   "file_extension": ".py",
   "mimetype": "text/x-python",
   "name": "python",
   "nbconvert_exporter": "python",
   "pygments_lexer": "ipython3",
   "version": "3.9.21"
  }
 },
 "nbformat": 4,
 "nbformat_minor": 5
}
